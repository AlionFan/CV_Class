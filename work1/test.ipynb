{
 "cells": [
  {
   "cell_type": "code",
   "execution_count": 1,
   "metadata": {},
   "outputs": [],
   "source": [
    "import cv2\n",
    "import numpy as np\n",
    "\n",
    "# canny 边缘检测\n",
    "def canny_edge_detection(image, low_threshold=100, high_threshold=200):\n",
    "    # 转换为灰度图像\n",
    "    gray = cv2.cvtColor(image, cv2.COLOR_BGR2GRAY)\n",
    "    # 使用Canny边缘检测\n",
    "    edges = cv2.Canny(gray, low_threshold, high_threshold)\n",
    "    return edges\n",
    "\n",
    "# 课上方法，添加蒙版\n",
    "def add_mask_detect(image, min_HSV = [0, 10, 80], max_HSV = [33, 255, 255]):\n",
    "    hsv = cv2.cvtColor(image, cv2.COLOR_BGR2HSV) # BGR转化为HSV格式\n",
    "    min_HSV = np.array(min_HSV, dtype=\"uint8\")\n",
    "    max_HSV = np.array(max_HSV, dtype=\"uint8\")\n",
    "    mask = cv2.inRange(hsv, min_HSV, max_HSV)\n",
    "    result = cv2.bitwise_and(image, image, mask=mask)\n",
    "    return result\n",
    "\n",
    "def sobel_edge_detection(image, ksize=3):\n",
    "    # 转换为灰度图像\n",
    "    gray = cv2.cvtColor(image, cv2.COLOR_BGR2GRAY)\n",
    "    # 计算x和y方向的梯度\n",
    "    sobelx = cv2.Sobel(gray, cv2.CV_64F, 1, 0, ksize=ksize)\n",
    "    sobely = cv2.Sobel(gray, cv2.CV_64F, 0, 1, ksize=ksize)\n",
    "    # 计算梯度幅值\n",
    "    sobel = np.sqrt(sobelx**2 + sobely**2)\n",
    "    # 转换为8位图像\n",
    "    sobel = np.uint8(sobel)\n",
    "    return sobel\n",
    "\n",
    "def laplacian_edge_detection(image, ksize=3):\n",
    "    # 转换为灰度图像\n",
    "    gray = cv2.cvtColor(image, cv2.COLOR_BGR2GRAY)\n",
    "    # 使用Laplacian算子\n",
    "    laplacian = cv2.Laplacian(gray, cv2.CV_64F, ksize=ksize)\n",
    "    # 转换为8位图像\n",
    "    laplacian = np.uint8(np.absolute(laplacian))\n",
    "    return laplacian\n",
    "\n",
    "\n"
   ]
  },
  {
   "cell_type": "code",
   "execution_count": null,
   "metadata": {},
   "outputs": [
    {
     "name": "stderr",
     "output_type": "stream",
     "text": [
      "2025-03-17 19:04:28.629 Python[38670:1517324] +[IMKClient subclass]: chose IMKClient_Modern\n",
      "2025-03-17 19:04:28.629 Python[38670:1517324] +[IMKInputSession subclass]: chose IMKInputSession_Modern\n"
     ]
    },
    {
     "ename": "",
     "evalue": "",
     "output_type": "error",
     "traceback": [
      "\u001b[1;31mThe Kernel crashed while executing code in the current cell or a previous cell. \n",
      "\u001b[1;31mPlease review the code in the cell(s) to identify a possible cause of the failure. \n",
      "\u001b[1;31mClick <a href='https://aka.ms/vscodeJupyterKernelCrash'>here</a> for more info. \n",
      "\u001b[1;31mView Jupyter <a href='command:jupyter.viewOutput'>log</a> for further details."
     ]
    }
   ],
   "source": [
    "# 读取图像\n",
    "image = cv2.imread('pic/hg.jpg')\n",
    "# 调用Canny边缘检测函数\n",
    "# edges = canny_edge_detection(image)\n",
    "# edges = add_mask_detect(image)\n",
    "# edges = sobel_edge_detection(image)\n",
    "edges = laplacian_edge_detection(image)\n",
    "\n",
    "# 显示结果\n",
    "cv2.imshow('Canny Edge Detection', edges)\n",
    "cv2.waitKey()\n",
    "cv2.destroyAllWindows()"
   ]
  },
  {
   "cell_type": "code",
   "execution_count": null,
   "metadata": {},
   "outputs": [],
   "source": []
  }
 ],
 "metadata": {
  "kernelspec": {
   "display_name": "Torch_env",
   "language": "python",
   "name": "python3"
  },
  "language_info": {
   "codemirror_mode": {
    "name": "ipython",
    "version": 3
   },
   "file_extension": ".py",
   "mimetype": "text/x-python",
   "name": "python",
   "nbconvert_exporter": "python",
   "pygments_lexer": "ipython3",
   "version": "3.12.9"
  }
 },
 "nbformat": 4,
 "nbformat_minor": 2
}
